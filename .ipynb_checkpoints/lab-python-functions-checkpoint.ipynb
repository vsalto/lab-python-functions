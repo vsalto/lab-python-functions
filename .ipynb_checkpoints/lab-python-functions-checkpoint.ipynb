{
 "cells": [
  {
   "cell_type": "markdown",
   "id": "25d7736c-ba17-4aff-b6bb-66eba20fbf4e",
   "metadata": {},
   "source": [
    "# Lab | Functions"
   ]
  },
  {
   "cell_type": "markdown",
   "id": "0c581062-8967-4d93-b06e-62833222f930",
   "metadata": {
    "tags": []
   },
   "source": [
    "## Exercise: Managing Customer Orders with Functions\n",
    "\n",
    "In the previous exercise, you improved the code for managing customer orders by using loops and flow control. Now, let's take it a step further and refactor the code by introducing functions.\n",
    "\n",
    "Follow the steps below to complete the exercise:\n",
    "\n",
    "1. Define a function named `initialize_inventory` that takes `products` as a parameter. Inside the function, implement the code for initializing the inventory dictionary using a loop and user input.\n",
    "\n",
    "2. Define a function named `get_customer_orders` that takes no parameters. Inside the function, implement the code for prompting the user to enter the product names using a loop. The function should return the `customer_orders` set.\n",
    "\n",
    "3. Define a function named `update_inventory` that takes `customer_orders` and `inventory` as parameters. Inside the function, implement the code for updating the inventory dictionary based on the customer orders.\n",
    "\n",
    "4. Define a function named `calculate_order_statistics` that takes `customer_orders` and `products` as parameters. Inside the function, implement the code for calculating the order statistics (total products ordered, and percentage of unique products ordered). The function should return these values.\n",
    "\n",
    "5. Define a function named `print_order_statistics` that takes `order_statistics` as a parameter. Inside the function, implement the code for printing the order statistics.\n",
    "\n",
    "6. Define a function named `print_updated_inventory` that takes `inventory` as a parameter. Inside the function, implement the code for printing the updated inventory.\n",
    "\n",
    "7. Call the functions in the appropriate sequence to execute the program and manage customer orders.\n",
    "\n",
    "Hints for functions:\n",
    "\n",
    "- Consider the input parameters required for each function and their return values.\n",
    "- Utilize function parameters and return values to transfer data between functions.\n",
    "- Test your functions individually to ensure they work correctly.\n",
    "\n",
    "\n"
   ]
  },
  {
   "cell_type": "code",
   "execution_count": 1,
   "id": "bbedb035",
   "metadata": {},
   "outputs": [],
   "source": [
    "# 1. Define a function named initialize_inventory that takes products as a parameter. Inside the function, \n",
    "# implement the code for initializing the inventory dictionary using a loop and user input.\n",
    "\n",
    "def initialize_inventory (product_list):\n",
    "    inventory = {}\n",
    "    for i in product_list:\n",
    "        quantity = input('Please enter the quantity of ' + i + ' in pieces')\n",
    "        inventory [i] = quantity\n",
    "    return inventory"
   ]
  },
  {
   "cell_type": "code",
   "execution_count": 2,
   "id": "296deea6",
   "metadata": {},
   "outputs": [
    {
     "name": "stdout",
     "output_type": "stream",
     "text": [
      "Please enter the quantity of t-shirt in pieces23\n",
      "Please enter the quantity of mug in pieces24\n",
      "Please enter the quantity of hat in pieces43\n",
      "Please enter the quantity of book in pieces34\n",
      "Please enter the quantity of keychain in pieces43\n"
     ]
    }
   ],
   "source": [
    "products = [\"t-shirt\", \"mug\", \"hat\", \"book\", \"keychain\"]\n",
    "inventory = initialize_inventory(products)"
   ]
  },
  {
   "cell_type": "code",
   "execution_count": 10,
   "id": "e345a8aa",
   "metadata": {},
   "outputs": [
    {
     "data": {
      "text/plain": [
       "{'t-shirt': '23', 'mug': '24', 'hat': '43', 'book': '34', 'keychain': '43'}"
      ]
     },
     "execution_count": 10,
     "metadata": {},
     "output_type": "execute_result"
    }
   ],
   "source": [
    "inventory"
   ]
  },
  {
   "cell_type": "code",
   "execution_count": 3,
   "id": "48dceba0",
   "metadata": {},
   "outputs": [],
   "source": [
    "# 2. Define a function named get_customer_orders that takes no parameters. Inside the function, \n",
    "# implement the code for prompting the user to enter the product names using a loop. \n",
    "# The function should return the customer_orders set.\n",
    "def get_customer_orders(product_list):\n",
    "    customer_orders = set()\n",
    "    a = str(product_list)\n",
    "    answer = True\n",
    "    while answer == True:\n",
    "        order = input('Please enter the product that you want to order out of ' + a)\n",
    "        while order not in a :\n",
    "            order = input(\"Product not found. Try again out of the product list: \" + a)   \n",
    "        customer_orders.add (order)\n",
    "        user_answer = input('Do you want to add another product ot ouf the list? ' + a + ' (y/n)') \n",
    "        if user_answer == 'n':\n",
    "            answer = False\n",
    "    return customer_orders"
   ]
  },
  {
   "cell_type": "code",
   "execution_count": 4,
   "id": "5a34e781",
   "metadata": {},
   "outputs": [
    {
     "name": "stdout",
     "output_type": "stream",
     "text": [
      "Please enter the product that you want to order out of ['t-shirt', 'mug', 'hat', 'book', 'keychain']mug\n",
      "Do you want to add another product ot ouf the list? ['t-shirt', 'mug', 'hat', 'book', 'keychain'] (y/n)y\n",
      "Please enter the product that you want to order out of ['t-shirt', 'mug', 'hat', 'book', 'keychain']hat\n",
      "Do you want to add another product ot ouf the list? ['t-shirt', 'mug', 'hat', 'book', 'keychain'] (y/n)y\n",
      "Please enter the product that you want to order out of ['t-shirt', 'mug', 'hat', 'book', 'keychain']book\n",
      "Do you want to add another product ot ouf the list? ['t-shirt', 'mug', 'hat', 'book', 'keychain'] (y/n)n\n"
     ]
    }
   ],
   "source": [
    "customer_orders = get_customer_orders(products)"
   ]
  },
  {
   "cell_type": "code",
   "execution_count": 14,
   "id": "3d04a34e",
   "metadata": {},
   "outputs": [],
   "source": [
    "# 3. Define a function named update_inventory that takes customer_orders and inventory as parameters. \n",
    "# Inside the function, implement the code for updating the inventory dictionary based on the customer orders.\n",
    "\n",
    "def update_inventory(customer_orders, inventory):\n",
    "    #customer_orders = set()\n",
    "    #inventory = {}\n",
    "    for i in customer_orders:\n",
    "        quantity = int(inventory.get(i))\n",
    "        quantity = quantity - 1\n",
    "        inventory [i] = quantity\n",
    "        #print(quantity)    \n",
    "    return inventory\n"
   ]
  },
  {
   "cell_type": "code",
   "execution_count": 15,
   "id": "0bccd608",
   "metadata": {},
   "outputs": [
    {
     "data": {
      "text/plain": [
       "{'t-shirt': '23', 'mug': 22, 'hat': 41, 'book': 32, 'keychain': '43'}"
      ]
     },
     "execution_count": 15,
     "metadata": {},
     "output_type": "execute_result"
    }
   ],
   "source": [
    "inventory_updated = update_inventory(customer_orders,inventory)\n",
    "inventory_updated"
   ]
  },
  {
   "cell_type": "code",
   "execution_count": 25,
   "id": "b4934ba0",
   "metadata": {},
   "outputs": [],
   "source": [
    "# 4. Define a function named calculate_order_statistics that takes customer_orders and products as parameters. \n",
    "# Inside the function, implement the code for calculating the order statistics \n",
    "# (total products ordered, and percentage of unique products ordered). The function should return these values.\n",
    "\n",
    "def calculate_order_statistics(customer_orders,products):\n",
    "    total_products_ordered = len (customer_orders)\n",
    "    perc_products_ordered = 100*len (customer_orders)/len(products)\n",
    "    return total_products_ordered, perc_products_ordered"
   ]
  },
  {
   "cell_type": "code",
   "execution_count": 26,
   "id": "37e2ee5e",
   "metadata": {},
   "outputs": [
    {
     "data": {
      "text/plain": [
       "(3, 60.0)"
      ]
     },
     "execution_count": 26,
     "metadata": {},
     "output_type": "execute_result"
    }
   ],
   "source": [
    "order_statistics = calculate_order_statistics(customer_orders,products)\n",
    "order_statistics"
   ]
  },
  {
   "cell_type": "code",
   "execution_count": 30,
   "id": "7465fc6a",
   "metadata": {},
   "outputs": [],
   "source": [
    "# 5. Define a function named print_order_statistics that takes order_statistics as a parameter. \n",
    "# Inside the function, implement the code for printing the order statistics.\n",
    "\n",
    "def print_order_statistics(order_statistics):\n",
    "    print ('```')\n",
    "    print ('Order Stattistics:')\n",
    "    print ('Total Products Ordered: ' + str(order_statistics[0]))\n",
    "    print ('Percentage of Products Ordered: ' + str(order_statistics[1]) + '%')\n",
    "    print ('```')"
   ]
  },
  {
   "cell_type": "code",
   "execution_count": 31,
   "id": "1f850d82",
   "metadata": {},
   "outputs": [
    {
     "name": "stdout",
     "output_type": "stream",
     "text": [
      "```\n",
      "Order Stattistics:\n",
      "Total Products Ordered: 3\n",
      "Percentage of Products Ordered: 60.0%\n",
      "```\n"
     ]
    }
   ],
   "source": [
    "print_order_statistics(order_statistics)"
   ]
  },
  {
   "cell_type": "code",
   "execution_count": 37,
   "id": "205019a8",
   "metadata": {},
   "outputs": [],
   "source": [
    "# 6. Define a function named print_updated_inventory that takes inventory as a parameter. \n",
    "# Inside the function, implement the code for printing the updated inventory.\n",
    "def print_updated_inventory(inventory):\n",
    "    print ('Updated inventory: ')\n",
    "    print(inventory)"
   ]
  },
  {
   "cell_type": "code",
   "execution_count": 38,
   "id": "45023691",
   "metadata": {},
   "outputs": [
    {
     "name": "stdout",
     "output_type": "stream",
     "text": [
      "Updated inventory: \n",
      "{'t-shirt': '23', 'mug': 22, 'hat': 41, 'book': 32, 'keychain': '43'}\n"
     ]
    }
   ],
   "source": [
    "print_updated_inventory(inventory_updated)"
   ]
  },
  {
   "cell_type": "code",
   "execution_count": 39,
   "id": "14323188",
   "metadata": {},
   "outputs": [
    {
     "name": "stdout",
     "output_type": "stream",
     "text": [
      "Please enter the quantity of t-shirt in pieces23\n",
      "Please enter the quantity of mug in pieces24\n",
      "Please enter the quantity of hat in pieces23\n",
      "Please enter the quantity of book in pieces54\n",
      "Please enter the quantity of keychain in pieces12\n",
      "Please enter the product that you want to order out of ['t-shirt', 'mug', 'hat', 'book', 'keychain']mug\n",
      "Do you want to add another product ot ouf the list? ['t-shirt', 'mug', 'hat', 'book', 'keychain'] (y/n)y\n",
      "Please enter the product that you want to order out of ['t-shirt', 'mug', 'hat', 'book', 'keychain']hat\n",
      "Do you want to add another product ot ouf the list? ['t-shirt', 'mug', 'hat', 'book', 'keychain'] (y/n)n\n",
      "```\n",
      "Order Stattistics:\n",
      "Total Products Ordered: 2\n",
      "Percentage of Products Ordered: 40.0%\n",
      "```\n",
      "Updated inventory: \n",
      "{'t-shirt': '23', 'mug': 23, 'hat': 22, 'book': '54', 'keychain': '12'}\n"
     ]
    }
   ],
   "source": [
    "#7. Call the functions in the appropriate sequence to execute the program and manage customer orders.\n",
    "products = [\"t-shirt\", \"mug\", \"hat\", \"book\", \"keychain\"]\n",
    "inventory = initialize_inventory(products)\n",
    "customer_orders = get_customer_orders(products)\n",
    "inventory_updated = update_inventory(customer_orders,inventory)\n",
    "order_statistics = calculate_order_statistics(customer_orders,products)\n",
    "print_order_statistics(order_statistics)\n",
    "print_updated_inventory(inventory_updated)"
   ]
  },
  {
   "cell_type": "code",
   "execution_count": null,
   "id": "7b7d5324",
   "metadata": {},
   "outputs": [],
   "source": []
  }
 ],
 "metadata": {
  "kernelspec": {
   "display_name": "Python 3 (ipykernel)",
   "language": "python",
   "name": "python3"
  },
  "language_info": {
   "codemirror_mode": {
    "name": "ipython",
    "version": 3
   },
   "file_extension": ".py",
   "mimetype": "text/x-python",
   "name": "python",
   "nbconvert_exporter": "python",
   "pygments_lexer": "ipython3",
   "version": "3.11.7"
  }
 },
 "nbformat": 4,
 "nbformat_minor": 5
}
